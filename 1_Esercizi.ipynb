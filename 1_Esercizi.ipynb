{
 "cells": [
  {
   "cell_type": "markdown",
   "metadata": {},
   "source": [
    "### **1. Trasformare cicli in list comprehension**\n",
    "\n",
    "Fai tre esempi di cicli producono una lista e poi riscrivi lo stesso codice usando la list comprehension"
   ]
  },
  {
   "cell_type": "code",
   "execution_count": 1,
   "metadata": {},
   "outputs": [
    {
     "name": "stdout",
     "output_type": "stream",
     "text": [
      "[1, 2, 3, 4, 5, 6]\n",
      "[0, 2, 4, 6, 8]\n",
      "[3, 4, 5, 6, 7]\n"
     ]
    }
   ],
   "source": [
    "simple_list = []\n",
    "\n",
    "for i in range(1,7):\n",
    "    simple_list.append(i)\n",
    "\n",
    "simple_list = [i for i in range(1, 7)]\n",
    "print(simple_list)\n",
    "\n",
    "even_list = []\n",
    "\n",
    "for i in range(10):\n",
    "    if i % 2 == 0:\n",
    "        even_list.append(i)\n",
    "\n",
    "even_list = [i for i in range(10) if i % 2 == 0]\n",
    "print(even_list)\n",
    "\n",
    "ranged_list = []\n",
    "\n",
    "for i in range(10):\n",
    "    if 2 < i < 8:\n",
    "        ranged_list.append(i)\n",
    "\n",
    "ranged_list = [i for i in range(10) if 2 < i < 8]\n",
    "print(ranged_list)"
   ]
  },
  {
   "cell_type": "markdown",
   "metadata": {},
   "source": [
    "### **2. Vettore di Numeri Primi**\n",
    "\n",
    "1. **Crea un vettore** contenente tutti i numeri primi compresi tra **0 e 10**  \n",
    "   _(Puoi scriverli direttamente nell'array)._\n",
    "\n",
    "2. **Conta quanti numeri ci sono nel vettore** utilizzando la funzione `len()`.  **Ottieni lo stesso numero** accedendo all'attributo `.size` del vettore.\n",
    "\n",
    "3. Quale pensi sia il tipo di dato (`dtype`) del vettore?  Prova a rispondere senza eseguire il codice e Verifica la tua risposta accedendo all'attributo `.dtype` del vettore\n",
    "\n",
    "4. Scrivi l'array usando una list comprehension che controlla che i numeri siano primi. "
   ]
  },
  {
   "cell_type": "code",
   "execution_count": 4,
   "metadata": {},
   "outputs": [
    {
     "name": "stdout",
     "output_type": "stream",
     "text": [
      "6\n",
      "6\n",
      "int64\n",
      "[0, 1, 2, 3, 5, 7]\n"
     ]
    }
   ],
   "source": [
    "import numpy as np\n",
    "\n",
    "def is_prime(n):\n",
    "    for i in range(2, n):\n",
    "        if n % i == 0:\n",
    "            return False\n",
    "        \n",
    "    return True\n",
    "\n",
    "primi = np.array([0, 1, 2, 3, 5, 7])\n",
    "\n",
    "print(len(primi))\n",
    "print(primi.size)\n",
    "\n",
    "print(primi.dtype)\n",
    "\n",
    "primi = [i for i in range(10) if is_prime(i)]\n",
    "\n",
    "print(primi)"
   ]
  },
  {
   "cell_type": "markdown",
   "metadata": {},
   "source": [
    "### **3.  Operazioni su array**\n",
    "Crea un array **a**, 1D (senza digitarlo esplicitamente), e genera due nuovi array **b**, contenente una sottostringa a piacere e **c** che è il reverse dell'array **a** (esempio [1,2,3] diventa [3,2,1]) .  Dividi l'array **a** per l'array **c**. Fai la stessa cosa per una lista."
   ]
  },
  {
   "cell_type": "code",
   "execution_count": 15,
   "metadata": {},
   "outputs": [
    {
     "name": "stdout",
     "output_type": "stream",
     "text": [
      "[1 2 3]\n",
      "[1 2]\n",
      "[3 2 1]\n",
      "a / c come np.array: \n",
      "0.3333333333333333\n",
      "1.0\n",
      "3.0\n",
      "a / c come list: \n",
      "0.3333333333333333\n",
      "1.0\n",
      "3.0\n"
     ]
    }
   ],
   "source": [
    "import numpy as np\n",
    "\n",
    "a = np.array([i for i in range(1, 4)])\n",
    "b = a[0:2]\n",
    "c = np.flip(a)\n",
    "\n",
    "print(a)\n",
    "print(b)\n",
    "print(c)\n",
    "\n",
    "d = a / c\n",
    "\n",
    "print(\"a / c come np.array: \")\n",
    "for i in range(3):\n",
    "    print(d[i])\n",
    "\n",
    "d = []\n",
    "\n",
    "for i in range(3):\n",
    "    d.append(a[i] / c[i])\n",
    "\n",
    "print(\"a / c come list: \")\n",
    "for i in range(3):\n",
    "    print(d[i])"
   ]
  }
 ],
 "metadata": {
  "kernelspec": {
   "display_name": "default",
   "language": "python",
   "name": "python3"
  },
  "language_info": {
   "codemirror_mode": {
    "name": "ipython",
    "version": 3
   },
   "file_extension": ".py",
   "mimetype": "text/x-python",
   "name": "python",
   "nbconvert_exporter": "python",
   "pygments_lexer": "ipython3",
   "version": "3.12.9"
  }
 },
 "nbformat": 4,
 "nbformat_minor": 2
}
